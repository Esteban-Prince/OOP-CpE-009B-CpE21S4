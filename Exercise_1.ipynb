{
  "nbformat": 4,
  "nbformat_minor": 0,
  "metadata": {
    "colab": {
      "provenance": [],
      "authorship_tag": "ABX9TyObq4uXisEvl4PFtNh59CoQ",
      "include_colab_link": true
    },
    "kernelspec": {
      "name": "python3",
      "display_name": "Python 3"
    },
    "language_info": {
      "name": "python"
    }
  },
  "cells": [
    {
      "cell_type": "markdown",
      "metadata": {
        "id": "view-in-github",
        "colab_type": "text"
      },
      "source": [
        "<a href=\"https://colab.research.google.com/github/Esteban-Prince/OOP-CpE-009B-CpE21S4/blob/main/Exercise_1.ipynb\" target=\"_parent\"><img src=\"https://colab.research.google.com/assets/colab-badge.svg\" alt=\"Open In Colab\"/></a>"
      ]
    },
    {
      "cell_type": "markdown",
      "source": [
        "# Exercise 1"
      ],
      "metadata": {
        "id": "UzY5IEdtFc1T"
      }
    },
    {
      "cell_type": "markdown",
      "source": [
        "Class Constructor"
      ],
      "metadata": {
        "id": "Q_GXsI57FxYS"
      }
    },
    {
      "cell_type": "code",
      "execution_count": 12,
      "metadata": {
        "colab": {
          "base_uri": "https://localhost:8080/"
        },
        "id": "fsLtGYj4FaqX",
        "outputId": "eb6da17a-0057-4d56-e3ab-20de57b9dde5"
      },
      "outputs": [
        {
          "output_type": "stream",
          "name": "stdout",
          "text": [
            "1\n",
            "6\n",
            "6\n"
          ]
        }
      ],
      "source": [
        "class Number:\n",
        "  x = 1\n",
        "  y = 2\n",
        "  z = 3\n",
        "\n",
        "  def __init__(self, x, y, z):\n",
        "    self.x = x\n",
        "    self.y = y\n",
        "    self.z = z\n",
        "  def Num(self):\n",
        "    return self.x + self.y + self.z\n",
        "\n",
        "print(Number.x)\n",
        "\n",
        "print(Number.x + Number.y + Number.z)\n",
        "\n",
        "print(Number(1,2,3).Num())"
      ]
    },
    {
      "cell_type": "code",
      "source": [
        "class Person:\n",
        "\n",
        "  def __init__(self, name,age,birthdate):\n",
        "    self.name = name\n",
        "    self.age = age\n",
        "    self.birthdate = birthdate\n",
        "\n",
        "  def person_attributes(self):\n",
        "    return f\"My name is {self.name}, with an age of {self.age} and my birthday is {self.birthdate}\"\n",
        "\n",
        "#Person = Person(input(\"Name: \"),input(\"Age: \"),input(\"Birthdate: \"))\n",
        "\n",
        "person = Person(\"Prince\", 19, \"May 20, 2005\")\n",
        "\n",
        "\n",
        "#print(\"Student Name: \",Person.name,\"\\n\" + \"Student Age: \",Person.age,\"\\n\" + \"Student Birthdate: \",Person.birthdate,\"\\n\" )\n",
        "print(person.person_attributes())"
      ],
      "metadata": {
        "colab": {
          "base_uri": "https://localhost:8080/"
        },
        "id": "xIieih5sFbJT",
        "outputId": "1441c3cc-3c15-45e7-a271-b47474b72a62"
      },
      "execution_count": 24,
      "outputs": [
        {
          "output_type": "stream",
          "name": "stdout",
          "text": [
            "My name is Prince, with an age of 19 and my birthday is May 20, 2005\n"
          ]
        }
      ]
    },
    {
      "cell_type": "markdown",
      "source": [
        "**Inheritance**"
      ],
      "metadata": {
        "id": "OOSoLBswNqsg"
      }
    },
    {
      "cell_type": "code",
      "source": [
        "class Person:\n",
        "\n",
        "  def __init__(self, name,age,birthdate):\n",
        "    self.name = name\n",
        "    self.age = age\n",
        "    self.birthdate = birthdate\n",
        "\n",
        "  def person_attributes(self):\n",
        "    return f\"My name is {self.name}, with an age of {self.age} and my birthday is {self.birthdate}\"\n",
        "\n",
        "class Teacher(Person):\n",
        "  pass\n",
        "class Student(Person):\n",
        "  pass\n",
        "\n",
        "person = Person(\"_____\", \"_____\", \"_____\")\n",
        "teacher = Teacher(\"Rizette Sayo\", 78, \"May 20, 1936\")\n",
        "student = Student(\"Prince\", 19, \"May 20, 2005\")\n",
        "\n",
        "#print(\"Student Name: \",Person.name,\"\\n\" + \"Student Age: \",Person.age,\"\\n\" + \"Student Birthdate: \",Person.birthdate,\"\\n\" )\n",
        "print(person.person_attributes())\n",
        "print(teacher.person_attributes())\n",
        "print(student.person_attributes())"
      ],
      "metadata": {
        "colab": {
          "base_uri": "https://localhost:8080/"
        },
        "id": "nwWPQYcBNu-Q",
        "outputId": "257d5dce-d86c-4f37-8edb-09023cae834c"
      },
      "execution_count": 38,
      "outputs": [
        {
          "output_type": "stream",
          "name": "stdout",
          "text": [
            "My name is _____, with an age of _____ and my birthday is _____\n",
            "\n",
            "\n",
            "My name is Rizette Sayo, with an age of 78 and my birthday is May 20, 1936\n",
            "My name is Prince, with an age of 19 and my birthday is May 20, 2005\n"
          ]
        }
      ]
    },
    {
      "cell_type": "markdown",
      "source": [
        "# Exercise 1"
      ],
      "metadata": {
        "id": "VsEidcepQpUv"
      }
    },
    {
      "cell_type": "code",
      "source": [
        "class Person:\n",
        "\n",
        "  def __init__(self, name,age,birthdate):\n",
        "    self.name = name\n",
        "    self.age = age\n",
        "    self.birthdate = birthdate\n",
        "\n",
        "  def person_attributes(self):\n",
        "    return f\"My name is {self.name}, with an age of {self.age} and my birthday is {self.birthdate}\"\n",
        "\n",
        "class Teacher(Person):\n",
        "  pass\n",
        "class Student(Person):\n",
        "  pass\n",
        "\n",
        "person = Person(\"_____\", \"_____\", \"_____\")\n",
        "teacher = Teacher(\"Miss Lillina Rose\", 46, \"January 03, 1978\")\n",
        "student = Student(\"Prince\", 19, \"May 20, 2005\")\n",
        "\n",
        "#print(\"Student Name: \",Person.name,\"\\n\" + \"Student Age: \",Person.age,\"\\n\" + \"Student Birthdate: \",Person.birthdate,\"\\n\" )\n",
        "print(teacher.person_attributes(), \"\\n\")\n",
        "print(\"Name: \",teacher.name)\n",
        "print(\"Age: \",teacher.age)\n",
        "print(\"Birthdate: \",teacher.birthdate)"
      ],
      "metadata": {
        "colab": {
          "base_uri": "https://localhost:8080/"
        },
        "id": "QAwGYYFuQre3",
        "outputId": "85325137-67ea-4ca8-b8e0-a9779f74d448"
      },
      "execution_count": 42,
      "outputs": [
        {
          "output_type": "stream",
          "name": "stdout",
          "text": [
            "My name is Miss Lillina Rose, with an age of 46 and my birthday is January 03, 1978 \n",
            "\n",
            "Name:  Miss Lillina Rose\n",
            "Age:  46\n",
            "Birthdate:  January 03, 1978\n"
          ]
        }
      ]
    },
    {
      "cell_type": "code",
      "source": [
        "class Shapes:\n",
        "  def __init__(self, side):\n",
        "    self.side = side\n",
        "\n",
        "  def calculate_area(self, shape_type):\n",
        "    if shape_type == 1:\n",
        "      width = 4\n",
        "      return f\"The perimeter of the rectangle is {self.side * width * self.side * width }\", f\"The area of the rectangle is {self.side * width}\"\n",
        "\n",
        "    elif shape_type == 2:\n",
        "      return f\"The perimeter of the square is {self.side * 2}\", f\"The area of the shape is {self.side * 4}\"\n",
        "\n",
        "    else:\n",
        "      return \"Invalid shape type\"\n",
        "\n",
        "class Rectangle(Shapes):\n",
        "  def area(self):\n",
        "    pass\n",
        "    return super().calculate_area(1)  # Calculate area of a rectangle\n",
        "\n",
        "class Square(Shapes):\n",
        "  def area(self):\n",
        "    pass\n",
        "    return super().calculate_area(2)  # Calculate area of a square\n",
        "\n",
        "num = int(input(\"1. Rectangle\\n2. Square\\n3. Both\\n\"))\n",
        "\n",
        "rectangle = Rectangle(2)\n",
        "square = Square(2)\n",
        "\n",
        "if num == 1:\n",
        "  print(rectangle.area())\n",
        "elif num == 2:\n",
        "  print(square.area())\n",
        "elif num == 3:\n",
        "  print(rectangle.area(), square.area())\n",
        "else:\n",
        "  print(\"Invalid shape type\")\n",
        "\n"
      ],
      "metadata": {
        "colab": {
          "base_uri": "https://localhost:8080/"
        },
        "id": "GkQsG1tmTHg-",
        "outputId": "52187fce-490b-46c8-efd1-95b3fe279383"
      },
      "execution_count": 75,
      "outputs": [
        {
          "output_type": "stream",
          "name": "stdout",
          "text": [
            "1. Rectangle\n",
            "2. Square\n",
            "3. Both\n",
            "3\n",
            "('The perimeter of the rectangle is 64', 'The area of the rectangle is 8') ('The perimeter of the square is 4', 'The area of the shape is 8')\n"
          ]
        }
      ]
    },
    {
      "cell_type": "code",
      "source": [],
      "metadata": {
        "id": "C-Ex4hckb00Q"
      },
      "execution_count": null,
      "outputs": []
    }
  ]
}